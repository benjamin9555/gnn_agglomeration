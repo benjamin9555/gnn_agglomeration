{
 "cells": [
  {
   "cell_type": "code",
   "execution_count": null,
   "metadata": {},
   "outputs": [],
   "source": [
    "# Load all npz files, merge the three arrays. Show a histogram for each of them\n",
    "import numpy as np\n",
    "import matplotlib.pyplot as plt\n",
    "import pandas as pd\n",
    "import seaborn as sns\n",
    "import os\n",
    "os.getcwd()"
   ]
  },
  {
   "cell_type": "code",
   "execution_count": null,
   "metadata": {},
   "outputs": [],
   "source": [
    "path = '../temp/overlap_counts/20190729T143811.749016-0400'\n",
    "background_majorities = []\n",
    "fragment_majorities = []\n",
    "background_percentages = []\n",
    "for f in os.listdir(path):\n",
    "    if f.endswith(\".npz\"):\n",
    "#         print(f)\n",
    "        s = np.load(os.path.join(path, f))\n",
    "        background_majorities.extend(list(s['background_majorities']))\n",
    "        fragment_majorities.extend(list(s['fragment_majorities']))\n",
    "        background_percentages.extend(list(s['background_percentages']))"
   ]
  },
  {
   "cell_type": "code",
   "execution_count": null,
   "metadata": {},
   "outputs": [],
   "source": [
    "num_bins = 50"
   ]
  },
  {
   "cell_type": "code",
   "execution_count": null,
   "metadata": {},
   "outputs": [],
   "source": [
    "plt.figure(figsize=(10,5))\n",
    "arr = plt.hist(background_majorities, bins=num_bins, range=(0,1), log=False);\n",
    "for i in range(num_bins):\n",
    "    plt.text(arr[1][i],arr[0][i],int(arr[0][i]), rotation=-45)"
   ]
  },
  {
   "cell_type": "code",
   "execution_count": null,
   "metadata": {},
   "outputs": [],
   "source": [
    "plt.figure(figsize=(10,5))\n",
    "plt.hist(fragment_majorities, bins=50, range=(0,1));\n",
    "# don't use eroded ids as ground_truth?"
   ]
  },
  {
   "cell_type": "code",
   "execution_count": null,
   "metadata": {},
   "outputs": [],
   "source": [
    "plt.figure(figsize=(10,5))\n",
    "arr = plt.hist(background_percentages, bins=num_bins, range=(0,1), log=False);\n",
    "for i in range(num_bins):\n",
    "    plt.text(arr[1][i],arr[0][i],int(arr[0][i]), rotation=-45)"
   ]
  },
  {
   "cell_type": "code",
   "execution_count": null,
   "metadata": {},
   "outputs": [],
   "source": []
  }
 ],
 "metadata": {
  "kernelspec": {
   "display_name": "Python 3",
   "language": "python",
   "name": "python3"
  },
  "language_info": {
   "codemirror_mode": {
    "name": "ipython",
    "version": 3
   },
   "file_extension": ".py",
   "mimetype": "text/x-python",
   "name": "python",
   "nbconvert_exporter": "python",
   "pygments_lexer": "ipython3",
   "version": "3.7.3"
  }
 },
 "nbformat": 4,
 "nbformat_minor": 2
}
